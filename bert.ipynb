{
 "cells": [
  {
   "cell_type": "code",
   "execution_count": 1,
   "metadata": {},
   "outputs": [],
   "source": [
    "import transformers\n",
    "import os\n",
    "import pickle\n",
    "import numpy as np\n",
    "from transformers import convert_bert_original_tf_checkpoint_to_pytorch\n",
    "from transformers import BertTokenizer, BertModel, BertForMaskedLM, BertForQuestionAnswering, BertForPreTraining"
   ]
  },
  {
   "cell_type": "code",
   "execution_count": 2,
   "metadata": {},
   "outputs": [],
   "source": [
    "import torch.nn as nn\n",
    "import torch.functional as F\n",
    "import torch"
   ]
  },
  {
   "cell_type": "markdown",
   "metadata": {},
   "source": [
    "## Load bert"
   ]
  },
  {
   "cell_type": "code",
   "execution_count": 3,
   "metadata": {
    "scrolled": false
   },
   "outputs": [],
   "source": [
    "# BERT_MODEL_PATH = \"rubert/\"\n",
    "# os.listdir(BERT_MODEL_PATH)"
   ]
  },
  {
   "cell_type": "code",
   "execution_count": 4,
   "metadata": {},
   "outputs": [],
   "source": [
    "# convert_bert_original_tf_checkpoint_to_pytorch.convert_tf_checkpoint_to_pytorch(\n",
    "#     BERT_MODEL_PATH + 'bert_model.ckpt',\n",
    "# BERT_MODEL_PATH + 'bert_config.json','pytorch_model.bin')"
   ]
  },
  {
   "cell_type": "code",
   "execution_count": 5,
   "metadata": {},
   "outputs": [],
   "source": [
    "model_path = \"rubert_pytorch/\""
   ]
  },
  {
   "cell_type": "code",
   "execution_count": 6,
   "metadata": {},
   "outputs": [
    {
     "name": "stderr",
     "output_type": "stream",
     "text": [
      "INFO:transformers.tokenization_utils:Model name 'rubert_pytorch/' not found in model shortcut name list (bert-base-uncased, bert-large-uncased, bert-base-cased, bert-large-cased, bert-base-multilingual-uncased, bert-base-multilingual-cased, bert-base-chinese, bert-base-german-cased, bert-large-uncased-whole-word-masking, bert-large-cased-whole-word-masking, bert-large-uncased-whole-word-masking-finetuned-squad, bert-large-cased-whole-word-masking-finetuned-squad, bert-base-cased-finetuned-mrpc). Assuming 'rubert_pytorch/' is a path or url to a directory containing tokenizer files.\n",
      "INFO:transformers.tokenization_utils:Didn't find file rubert_pytorch/added_tokens.json. We won't load it.\n",
      "INFO:transformers.tokenization_utils:Didn't find file rubert_pytorch/special_tokens_map.json. We won't load it.\n",
      "INFO:transformers.tokenization_utils:Didn't find file rubert_pytorch/tokenizer_config.json. We won't load it.\n",
      "INFO:transformers.tokenization_utils:loading file rubert_pytorch/vocab.txt\n",
      "INFO:transformers.tokenization_utils:loading file None\n",
      "INFO:transformers.tokenization_utils:loading file None\n",
      "INFO:transformers.tokenization_utils:loading file None\n",
      "INFO:transformers.configuration_utils:loading configuration file rubert_pytorch/config.json\n",
      "INFO:transformers.configuration_utils:Model config {\n",
      "  \"attention_probs_dropout_prob\": 0.1,\n",
      "  \"directionality\": \"bidi\",\n",
      "  \"finetuning_task\": null,\n",
      "  \"hidden_act\": \"gelu\",\n",
      "  \"hidden_dropout_prob\": 0.1,\n",
      "  \"hidden_size\": 768,\n",
      "  \"initializer_range\": 0.02,\n",
      "  \"intermediate_size\": 3072,\n",
      "  \"layer_norm_eps\": 1e-12,\n",
      "  \"max_position_embeddings\": 512,\n",
      "  \"num_attention_heads\": 12,\n",
      "  \"num_hidden_layers\": 12,\n",
      "  \"num_labels\": 2,\n",
      "  \"output_attentions\": false,\n",
      "  \"output_hidden_states\": false,\n",
      "  \"pooler_fc_size\": 768,\n",
      "  \"pooler_num_attention_heads\": 12,\n",
      "  \"pooler_num_fc_layers\": 3,\n",
      "  \"pooler_size_per_head\": 128,\n",
      "  \"pooler_type\": \"first_token_transform\",\n",
      "  \"pruned_heads\": {},\n",
      "  \"torchscript\": false,\n",
      "  \"type_vocab_size\": 2,\n",
      "  \"use_bfloat16\": false,\n",
      "  \"vocab_size\": 119547\n",
      "}\n",
      "\n",
      "INFO:transformers.modeling_utils:loading weights file rubert_pytorch/pytorch_model.bin\n"
     ]
    }
   ],
   "source": [
    "tokenizer = BertTokenizer.from_pretrained(model_path)\n",
    "model = BertModel.from_pretrained(model_path);"
   ]
  },
  {
   "cell_type": "markdown",
   "metadata": {},
   "source": [
    "## Load data "
   ]
  },
  {
   "cell_type": "code",
   "execution_count": 7,
   "metadata": {},
   "outputs": [],
   "source": [
    "story_path = \"story_data.pkl\"\n",
    "with open(story_path, 'rb') as f:\n",
    "    data = pickle.load(f)"
   ]
  },
  {
   "cell_type": "code",
   "execution_count": 8,
   "metadata": {},
   "outputs": [],
   "source": [
    "new = data[:400]"
   ]
  },
  {
   "cell_type": "code",
   "execution_count": 9,
   "metadata": {
    "scrolled": true
   },
   "outputs": [],
   "source": [
    "data_flat = np.concatenate(new, 0)"
   ]
  },
  {
   "cell_type": "code",
   "execution_count": 10,
   "metadata": {},
   "outputs": [],
   "source": [
    "data_flat = list(map(str.lower, data_flat))"
   ]
  },
  {
   "cell_type": "markdown",
   "metadata": {},
   "source": [
    "## Data preprocessing "
   ]
  },
  {
   "cell_type": "code",
   "execution_count": 11,
   "metadata": {},
   "outputs": [
    {
     "name": "stdout",
     "output_type": "stream",
     "text": [
      "[(['п19', 'как'], 'дурачок'), (['как', 'дурачок'], 'поехал'), (['дурачок', 'поехал'], 'к')]\n"
     ]
    }
   ],
   "source": [
    "trigrams = [([data_flat[i], data_flat[i + 1]], data_flat[i + 2])\n",
    "            for i in range(len(data_flat) - 2)]\n",
    "chunk_len=len(trigrams)\n",
    "print(trigrams[:3])"
   ]
  },
  {
   "cell_type": "code",
   "execution_count": 12,
   "metadata": {},
   "outputs": [],
   "source": [
    "vocab = set(data_flat)\n",
    "voc_len=len(vocab)\n",
    "word_to_ix = {word: i for i, word in enumerate(vocab)}"
   ]
  },
  {
   "cell_type": "code",
   "execution_count": 13,
   "metadata": {},
   "outputs": [],
   "source": [
    "inp=[]\n",
    "tar=[]\n",
    "for context, target in trigrams:\n",
    "        context_idxs = torch.tensor([word_to_ix[w] for w in context], dtype=torch.long)\n",
    "        inp.append(context_idxs)\n",
    "        targ = torch.tensor([word_to_ix[target]], dtype=torch.long)\n",
    "        tar.append(targ)"
   ]
  },
  {
   "cell_type": "markdown",
   "metadata": {},
   "source": [
    "## Init Language Model "
   ]
  },
  {
   "cell_type": "code",
   "execution_count": 14,
   "metadata": {},
   "outputs": [],
   "source": [
    "def get_bert_embed_matrix(model):\n",
    "    \n",
    "    bert_embeddings = list(model.children())[0]\n",
    "    bert_word_embeddings = list(bert_embeddings.children())[0]\n",
    "    mat = bert_word_embeddings.weight.data.numpy()\n",
    "    return torch.tensor(mat)"
   ]
  },
  {
   "cell_type": "code",
   "execution_count": 15,
   "metadata": {},
   "outputs": [],
   "source": [
    "matrix = get_bert_embed_matrix(model)"
   ]
  },
  {
   "cell_type": "code",
   "execution_count": 16,
   "metadata": {},
   "outputs": [],
   "source": [
    "def create_emb_layer(weights_matrix, non_trainable=False):\n",
    "    num_embeddings, embedding_dim = weights_matrix.size()\n",
    "    emb_layer = nn.Embedding(num_embeddings, embedding_dim)\n",
    "    emb_layer.load_state_dict({'weight': weights_matrix})\n",
    "    if non_trainable:\n",
    "        emb_layer.weight.requires_grad = False\n",
    "\n",
    "    return emb_layer, num_embeddings, embedding_dim"
   ]
  },
  {
   "cell_type": "code",
   "execution_count": 17,
   "metadata": {},
   "outputs": [],
   "source": [
    "import torch\n",
    "import torch.nn as nn\n",
    "from torch.autograd import Variable\n",
    "\n",
    "class RNN(nn.Module):\n",
    "    def __init__(self, input_size, hidden_size, output_size, n_layers=1):\n",
    "        super(RNN, self).__init__()\n",
    "        self.input_size = input_size\n",
    "        self.hidden_size = hidden_size\n",
    "        self.output_size = output_size\n",
    "        self.n_layers = n_layers\n",
    "        \n",
    "        self.encoder = nn.Embedding(input_size, hidden_size)\n",
    "#         self.encoder, input_size, hidden_size = create_emb_layer(matrix, True)\n",
    "\n",
    "        self.gru = nn.GRU(hidden_size*2, hidden_size, n_layers, batch_first=True,\n",
    "                          bidirectional=False)\n",
    "        self.decoder = nn.Linear(hidden_size, output_size)\n",
    "    \n",
    "    def forward(self, input, hidden):\n",
    "        input = self.encoder(input.view(1, -1))\n",
    "        output, hidden = self.gru(input.view(1, 1, -1), hidden)\n",
    "        output = self.decoder(output.view(1, -1))\n",
    "        return output, hidden\n",
    "\n",
    "    def init_hidden(self):\n",
    "        return Variable(torch.zeros(self.n_layers, 1, self.hidden_size))"
   ]
  },
  {
   "cell_type": "code",
   "execution_count": 18,
   "metadata": {},
   "outputs": [],
   "source": [
    "def train(inp, target):\n",
    "    hidden = decoder.init_hidden().cuda()\n",
    "    decoder.zero_grad()\n",
    "    loss = 0\n",
    "    \n",
    "    for c in range(chunk_len):\n",
    "        output, hidden = decoder(inp[c].cuda(), hidden)\n",
    "        loss += criterion(output, target[c].cuda())\n",
    "\n",
    "    loss.backward()\n",
    "    decoder_optimizer.step()\n",
    "\n",
    "    return loss.data.item() / chunk_len"
   ]
  },
  {
   "cell_type": "code",
   "execution_count": 19,
   "metadata": {},
   "outputs": [],
   "source": [
    "import time, math\n",
    "\n",
    "def time_since(since):\n",
    "    s = time.time() - since\n",
    "    m = math.floor(s / 60)\n",
    "    s -= m * 60\n",
    "    return '%dm %ds' % (m, s)"
   ]
  },
  {
   "cell_type": "code",
   "execution_count": 20,
   "metadata": {},
   "outputs": [],
   "source": [
    "train_on_gpu = torch.cuda.is_available()"
   ]
  },
  {
   "cell_type": "code",
   "execution_count": 35,
   "metadata": {
    "scrolled": true
   },
   "outputs": [
    {
     "name": "stdout",
     "output_type": "stream",
     "text": [
      "[0m 15s (1 0%) 8.1147]\n",
      "[0m 30s (2 0%) 7.6463]\n",
      "[0m 45s (3 0%) 7.0041]\n",
      "[1m 0s (4 0%) 6.3052]\n",
      "[1m 15s (5 0%) 5.7327]\n",
      "[1m 31s (6 0%) 5.2069]\n",
      "[1m 46s (7 0%) 4.6993]\n",
      "[2m 1s (8 0%) 4.1808]\n",
      "[2m 16s (9 0%) 3.6588]\n",
      "[2m 31s (10 0%) 3.1496]\n",
      "[2m 46s (11 0%) 2.6804]\n",
      "[3m 1s (12 0%) 2.2705]\n",
      "[3m 16s (13 0%) 1.9168]\n",
      "[3m 31s (14 0%) 1.6125]\n",
      "[3m 47s (15 0%) 1.3502]\n",
      "[4m 2s (16 0%) 1.1244]\n",
      "[4m 17s (17 0%) 0.9319]\n",
      "[4m 32s (18 0%) 0.7681]\n",
      "[4m 47s (19 0%) 0.6303]\n",
      "[5m 2s (20 0%) 0.5153]\n",
      "[5m 17s (21 0%) 0.4194]\n",
      "[5m 32s (22 0%) 0.3402]\n",
      "[5m 47s (23 0%) 0.2754]\n",
      "[6m 3s (24 0%) 0.2227]\n",
      "[6m 18s (25 0%) 0.1804]\n",
      "[6m 33s (26 0%) 0.1464]\n",
      "[6m 48s (27 0%) 0.1191]\n",
      "[7m 3s (28 0%) 0.0973]\n",
      "[7m 18s (29 0%) 0.0800]\n",
      "[7m 33s (30 0%) 0.0662]\n",
      "[7m 48s (31 0%) 0.0552]\n",
      "[8m 3s (32 0%) 0.0463]\n",
      "[8m 18s (33 0%) 0.0392]\n",
      "[8m 34s (34 0%) 0.0333]\n",
      "[8m 49s (35 0%) 0.0286]\n",
      "[9m 4s (36 0%) 0.0248]\n",
      "[9m 19s (37 0%) 0.0217]\n",
      "[9m 34s (38 0%) 0.0192]\n",
      "[9m 49s (39 0%) 0.0172]\n",
      "[10m 4s (40 0%) 0.0154]\n",
      "[10m 19s (41 0%) 0.0140]\n",
      "[10m 34s (42 0%) 0.0127]\n",
      "[10m 49s (43 0%) 0.0117]\n",
      "[11m 5s (44 0%) 0.0108]\n",
      "[11m 20s (45 0%) 0.0100]\n",
      "[11m 35s (46 0%) 0.0094]\n",
      "[11m 50s (47 0%) 0.0088]\n",
      "[12m 5s (48 0%) 0.0082]\n",
      "[12m 20s (49 0%) 0.0078]\n",
      "[12m 36s (50 0%) 0.0074]\n",
      "[12m 51s (51 0%) 0.0071]\n",
      "[13m 6s (52 0%) 0.0067]\n",
      "[13m 22s (53 0%) 0.0065]\n",
      "[13m 37s (54 0%) 0.0062]\n",
      "[13m 52s (55 0%) 0.0060]\n",
      "[14m 8s (56 0%) 0.0058]\n",
      "[14m 23s (57 0%) 0.0056]\n",
      "[14m 38s (58 0%) 0.0055]\n",
      "[14m 53s (59 0%) 0.0053]\n",
      "[15m 9s (60 0%) 0.0052]\n",
      "[15m 24s (61 0%) 0.0051]\n",
      "[15m 39s (62 0%) 0.0049]\n",
      "[15m 54s (63 0%) 0.0048]\n",
      "[16m 9s (64 0%) 0.0047]\n",
      "[16m 25s (65 0%) 0.0047]\n",
      "[16m 40s (66 0%) 0.0046]\n",
      "[16m 55s (67 0%) 0.0045]\n",
      "[17m 11s (68 0%) 0.0044]\n",
      "[17m 26s (69 0%) 0.0044]\n",
      "[17m 41s (70 0%) 0.0043]\n",
      "[17m 56s (71 0%) 0.0042]\n",
      "[18m 12s (72 0%) 0.0042]\n",
      "[18m 27s (73 0%) 0.0041]\n",
      "[18m 42s (74 0%) 0.0041]\n",
      "[18m 57s (75 0%) 0.0040]\n",
      "[19m 12s (76 0%) 0.0040]\n",
      "[19m 27s (77 0%) 0.0039]\n",
      "[19m 42s (78 0%) 0.0039]\n",
      "[19m 57s (79 0%) 0.0038]\n",
      "[20m 13s (80 1%) 0.0038]\n"
     ]
    }
   ],
   "source": [
    "n_epochs = 80\n",
    "print_every = 1\n",
    "plot_every = 4\n",
    "hidden_size = 120\n",
    "n_layers = 1\n",
    "lr = 0.015\n",
    "\n",
    "decoder = RNN(voc_len, hidden_size, voc_len, n_layers)\n",
    "decoder_optimizer = torch.optim.Adam(decoder.parameters(), lr=lr)\n",
    "criterion = nn.CrossEntropyLoss()\n",
    "\n",
    "start = time.time()\n",
    "all_losses = []\n",
    "loss_avg = 0\n",
    "if(train_on_gpu):\n",
    "    decoder.cuda()\n",
    "for epoch in range(1, n_epochs + 1):\n",
    "    loss = train(inp,tar)       \n",
    "    loss_avg += loss\n",
    "\n",
    "    if epoch % print_every == 0:\n",
    "        print('[%s (%d %d%%) %.4f]' % (time_since(start), epoch, epoch / n_epochs * 100, loss))\n",
    "\n",
    "    if epoch % plot_every == 0:\n",
    "        all_losses.append(loss_avg / plot_every)\n",
    "        loss_avg = 0"
   ]
  },
  {
   "cell_type": "code",
   "execution_count": 36,
   "metadata": {
    "scrolled": true
   },
   "outputs": [
    {
     "data": {
      "text/plain": [
       "[<matplotlib.lines.Line2D at 0x7fd6cbfd43c8>]"
      ]
     },
     "execution_count": 36,
     "metadata": {},
     "output_type": "execute_result"
    },
    {
     "data": {
      "image/png": "[encoded data removed]",
      "text/plain": [
       "<Figure size 432x288 with 1 Axes>"
      ]
     },
     "metadata": {
      "needs_background": "light"
     },
     "output_type": "display_data"
    }
   ],
   "source": [
    "import matplotlib.pyplot as plt\n",
    "import matplotlib.ticker as ticker\n",
    "%matplotlib inline\n",
    "\n",
    "plt.figure()\n",
    "plt.plot(all_losses)"
   ]
  },
  {
   "cell_type": "code",
   "execution_count": 37,
   "metadata": {},
   "outputs": [],
   "source": [
    "def evaluate(prime_str, predict_len=100, temperature=0.8):\n",
    "    hidden = decoder.init_hidden().cuda()\n",
    "\n",
    "    for p in range(predict_len):\n",
    "        \n",
    "        prime_input = torch.tensor([word_to_ix[w] for w in prime_str.split()], dtype=torch.long).cuda()\n",
    "        inp = prime_input[-2:] \n",
    "        output, hidden = decoder(inp, hidden)\n",
    "        \n",
    "        output_dist = output.data.view(-1).div(temperature).exp()\n",
    "        top_i = torch.multinomial(output_dist, 1)[0]\n",
    "        \n",
    "        predicted_word = list(word_to_ix.keys())[list(word_to_ix.values()).index(top_i)]\n",
    "        prime_str += \" \" + predicted_word\n",
    "#         inp = torch.tensor(word_to_ix[predicted_word], dtype=torch.long)\n",
    "\n",
    "    return prime_str"
   ]
  },
  {
   "cell_type": "code",
   "execution_count": 67,
   "metadata": {
    "scrolled": true
   },
   "outputs": [
    {
     "name": "stdout",
     "output_type": "stream",
     "text": [
      "друг купил две шавы и заскринил оплату теперь ходим и покупаем шаурму по скрину включаем дурочку делаем так\n"
     ]
    }
   ],
   "source": [
    "print(evaluate('друг купил', 16, temperature=1))"
   ]
  }
 ],
 "metadata": {
  "kernelspec": {
   "display_name": "Python 3",
   "language": "python",
   "name": "python3"
  },
  "language_info": {
   "codemirror_mode": {
    "name": "ipython",
    "version": 3
   },
   "file_extension": ".py",
   "mimetype": "text/x-python",
   "name": "python",
   "nbconvert_exporter": "python",
   "pygments_lexer": "ipython3",
   "version": "3.6.2"
  }
 },
 "nbformat": 4,
 "nbformat_minor": 2
}
