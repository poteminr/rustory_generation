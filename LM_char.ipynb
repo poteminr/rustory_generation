{
 "cells": [
  {
   "cell_type": "code",
   "execution_count": 37,
   "metadata": {
    "colab": {},
    "colab_type": "code",
    "id": "HzETJPTeDI2l"
   },
   "outputs": [],
   "source": [
    "import os\n",
    "import pickle\n",
    "import numpy as np\n",
    "import time\n",
    "import math\n",
    "import torch.nn as nn\n",
    "import torch.functional as F\n",
    "import torch"
   ]
  },
  {
   "cell_type": "code",
   "execution_count": 38,
   "metadata": {
    "colab": {},
    "colab_type": "code",
    "id": "WaS0OXNbDI2v"
   },
   "outputs": [],
   "source": [
    "device = torch.device(\"cuda:0\")"
   ]
  },
  {
   "cell_type": "code",
   "execution_count": 73,
   "metadata": {},
   "outputs": [
    {
     "name": "stdout",
     "output_type": "stream",
     "text": [
      "Sat Oct  5 16:20:09 2019       \r\n",
      "+-----------------------------------------------------------------------------+\r\n",
      "| NVIDIA-SMI 418.67       Driver Version: 418.67       CUDA Version: 10.1     |\r\n",
      "|-------------------------------+----------------------+----------------------+\r\n",
      "| GPU  Name        Persistence-M| Bus-Id        Disp.A | Volatile Uncorr. ECC |\r\n",
      "| Fan  Temp  Perf  Pwr:Usage/Cap|         Memory-Usage | GPU-Util  Compute M. |\r\n",
      "|===============================+======================+======================|\r\n",
      "|   0  Tesla P100-PCIE...  On   | 00000000:00:04.0 Off |                    0 |\r\n",
      "| N/A   53C    P0    34W / 250W |   9435MiB / 16280MiB |      0%      Default |\r\n",
      "+-------------------------------+----------------------+----------------------+\r\n",
      "                                                                               \r\n",
      "+-----------------------------------------------------------------------------+\r\n",
      "| Processes:                                                       GPU Memory |\r\n",
      "|  GPU       PID   Type   Process name                             Usage      |\r\n",
      "|=============================================================================|\r\n",
      "+-----------------------------------------------------------------------------+\r\n"
     ]
    }
   ],
   "source": [
    "!nvidia-smi"
   ]
  },
  {
   "cell_type": "markdown",
   "metadata": {
    "colab_type": "text",
    "id": "I4swSGSVDI25"
   },
   "source": [
    "## Load data "
   ]
  },
  {
   "cell_type": "code",
   "execution_count": 56,
   "metadata": {
    "colab": {},
    "colab_type": "code",
    "id": "cTSxoD8cDI25"
   },
   "outputs": [],
   "source": [
    "story_path = \"story_data_origin.pkl\"\n",
    "with open(story_path, 'rb') as f:\n",
    "    data = pickle.load(f)"
   ]
  },
  {
   "cell_type": "code",
   "execution_count": 57,
   "metadata": {
    "colab": {},
    "colab_type": "code",
    "id": "WYSlyCo2DI26"
   },
   "outputs": [],
   "source": [
    "STORY_VAL = 2500\n",
    "data_batch = data[:STORY_VAL]"
   ]
  },
  {
   "cell_type": "markdown",
   "metadata": {
    "colab_type": "text",
    "id": "FEp-Sn-7DI29"
   },
   "source": [
    "## Data preprocessing "
   ]
  },
  {
   "cell_type": "code",
   "execution_count": 58,
   "metadata": {
    "colab": {},
    "colab_type": "code",
    "id": "EFqaAptuPMLT"
   },
   "outputs": [],
   "source": [
    "def token2str(data):\n",
    "    full_data = [\" \".join(sent).rstrip() for sent in data]\n",
    "    \n",
    "    return full_data"
   ]
  },
  {
   "cell_type": "code",
   "execution_count": 59,
   "metadata": {
    "colab": {},
    "colab_type": "code",
    "id": "7DCbYRIdS7tK"
   },
   "outputs": [],
   "source": [
    "corpus = token2str(data_batch)"
   ]
  },
  {
   "cell_type": "code",
   "execution_count": 60,
   "metadata": {
    "colab": {},
    "colab_type": "code",
    "id": "NisXPXQbUCEC"
   },
   "outputs": [],
   "source": [
    "chars = set(''.join(corpus))\n",
    "\n",
    "id2char = dict(enumerate(chars))\n",
    "\n",
    "char2id = {char: ind for ind, char in id2char.items()}\n",
    "voc_len = len(char2id)"
   ]
  },
  {
   "cell_type": "code",
   "execution_count": 61,
   "metadata": {
    "colab": {},
    "colab_type": "code",
    "id": "X2YHh80eDI2-"
   },
   "outputs": [],
   "source": [
    "def get_samples(data):\n",
    "    input_seq = []\n",
    "    target_seq = []\n",
    "    \n",
    "    for story in data:\n",
    "        input_seq.append(np.array(story[:-1]))\n",
    "        target_seq.append(np.array(story[1:]))\n",
    "    \n",
    "    return np.array(input_seq), np.array(target_seq)"
   ]
  },
  {
   "cell_type": "code",
   "execution_count": 62,
   "metadata": {
    "colab": {},
    "colab_type": "code",
    "id": "5PzKdF6qDI2_"
   },
   "outputs": [],
   "source": [
    "input_seq, target_seq = get_samples(corpus)"
   ]
  },
  {
   "cell_type": "code",
   "execution_count": 63,
   "metadata": {
    "colab": {},
    "colab_type": "code",
    "id": "DFKtxGBwDI3A"
   },
   "outputs": [],
   "source": [
    "input_tensor = []\n",
    "target_tensor = []\n",
    "\n",
    "for i in range(len(data_batch)):\n",
    "    input_tensor.append(torch.tensor([char2id[char] for char in input_seq[i]]))\n",
    "    target_tensor.append(torch.tensor([char2id[char] for char in target_seq[i]]))\n",
    "    \n"
   ]
  },
  {
   "cell_type": "code",
   "execution_count": 64,
   "metadata": {
    "colab": {},
    "colab_type": "code",
    "id": "yi5i3yfhgL4q"
   },
   "outputs": [],
   "source": [
    "input_seq = torch.nn.utils.rnn.pad_sequence(input_tensor, batch_first=True, padding_value=0)\n",
    "target_seq = torch.nn.utils.rnn.pad_sequence(target_tensor, batch_first=True, padding_value=0)"
   ]
  },
  {
   "cell_type": "code",
   "execution_count": 65,
   "metadata": {
    "colab": {},
    "colab_type": "code",
    "id": "CrxCXTCVez9s"
   },
   "outputs": [],
   "source": [
    "BATCH_SIZE = 100\n",
    "data2train = torch.utils.data.TensorDataset(input_seq, target_seq)\n",
    "train_loader = torch.utils.data.DataLoader(data2train, batch_size = BATCH_SIZE, shuffle = True)"
   ]
  },
  {
   "cell_type": "code",
   "execution_count": 66,
   "metadata": {
    "colab": {
     "base_uri": "https://localhost:8080/",
     "height": 34
    },
    "colab_type": "code",
    "id": "gGV-DFHF7TWQ",
    "outputId": "8489b280-7cec-4d21-bd77-bba18f08a84b"
   },
   "outputs": [
    {
     "data": {
      "text/plain": [
       "torch.Size([2500, 2966])"
      ]
     },
     "execution_count": 66,
     "metadata": {},
     "output_type": "execute_result"
    }
   ],
   "source": [
    "input_seq.size()"
   ]
  },
  {
   "cell_type": "markdown",
   "metadata": {
    "colab_type": "text",
    "id": "Chp0UCPDDI3F"
   },
   "source": [
    "## Init Language Model "
   ]
  },
  {
   "cell_type": "code",
   "execution_count": 67,
   "metadata": {
    "colab": {},
    "colab_type": "code",
    "id": "rl1iMxz4DI3F"
   },
   "outputs": [],
   "source": [
    "class Model(nn.Module):\n",
    "    def __init__(self, input_size, hidden_size, output_size, n_layers=1):\n",
    "        \"\"\"\n",
    "        input_size = output_size = vocab lenght\n",
    "        n_layers - val of lstm layer\n",
    "        \"\"\"\n",
    "        super(Model, self).__init__()\n",
    "        self.input_size = input_size\n",
    "        self.hidden_size = hidden_size\n",
    "        self.output_size = output_size\n",
    "        self.n_layers = n_layers\n",
    "        \n",
    "        self.encoder = nn.Embedding(input_size, hidden_size*2)\n",
    "\n",
    "\n",
    "        self.lstm = nn.LSTM(hidden_size*2, hidden_size, n_layers, batch_first=True) \n",
    "        \n",
    "        self.drop = nn.Dropout(0.5)\n",
    "        self.fc_1 = nn.Linear(hidden_size, output_size)\n",
    "        \n",
    "    def forward(self, x, prev_state):\n",
    "                \n",
    "        x = self.encoder(x)\n",
    "        \n",
    "        out, state = self.lstm(x, (prev_state[0].to(device), prev_state[1].to(device)))\n",
    "        \n",
    "        out = out.contiguous().view(-1, self.hidden_size)\n",
    "        out = self.drop(out)\n",
    "        out = self.fc_1(out)\n",
    "\n",
    "        return out, state\n",
    "    \n",
    "    def init_hidden(self, batch_size):\n",
    "        hidden = (torch.zeros(self.n_layers, batch_size, self.hidden_size),\n",
    "                  torch.zeros(self.n_layers, batch_size, self.hidden_size))\n",
    "        return hidden"
   ]
  },
  {
   "cell_type": "markdown",
   "metadata": {
    "colab_type": "text",
    "id": "k0splSYRDI3G"
   },
   "source": [
    "## Init train params"
   ]
  },
  {
   "cell_type": "code",
   "execution_count": 68,
   "metadata": {
    "colab": {},
    "colab_type": "code",
    "id": "mCWR79lD6Aen"
   },
   "outputs": [],
   "source": [
    "def time_since(since):\n",
    "    s = time.time() - since\n",
    "    m = math.floor(s / 60)\n",
    "    s -= m * 60\n",
    "    return '%dm %ds' % (m, s)"
   ]
  },
  {
   "cell_type": "code",
   "execution_count": 69,
   "metadata": {
    "colab": {},
    "colab_type": "code",
    "id": "3aqY5vMQ6B8L"
   },
   "outputs": [],
   "source": [
    "n_epochs = 300\n",
    "hidden_size = 256\n",
    "n_layers = 1\n",
    "lr = 0.01\n",
    "print_every = 10"
   ]
  },
  {
   "cell_type": "code",
   "execution_count": 70,
   "metadata": {
    "colab": {},
    "colab_type": "code",
    "id": "AEDjE79bDI3H"
   },
   "outputs": [],
   "source": [
    "model = Model(voc_len, hidden_size, voc_len, n_layers)\n",
    "model.to(device)\n",
    "\n",
    "criterion = nn.CrossEntropyLoss()\n",
    "optimizer = torch.optim.Adam(model.parameters(), lr=lr)"
   ]
  },
  {
   "cell_type": "markdown",
   "metadata": {},
   "source": [
    "## Train Loop "
   ]
  },
  {
   "cell_type": "code",
   "execution_count": 71,
   "metadata": {
    "colab": {},
    "colab_type": "code",
    "id": "0UC51pG9DI3H",
    "scrolled": true
   },
   "outputs": [
    {
     "name": "stdout",
     "output_type": "stream",
     "text": [
      "Time: 1m 37s | Epoch: 10 / 300 | Loss: 0.2989\n",
      "Time: 3m 15s | Epoch: 20 / 300 | Loss: 0.2729\n",
      "Time: 4m 53s | Epoch: 30 / 300 | Loss: 0.2581\n",
      "Time: 6m 31s | Epoch: 40 / 300 | Loss: 0.2486\n",
      "Time: 8m 9s | Epoch: 50 / 300 | Loss: 0.2405\n",
      "Time: 9m 47s | Epoch: 60 / 300 | Loss: 0.2348\n",
      "Time: 11m 25s | Epoch: 70 / 300 | Loss: 0.2299\n",
      "Time: 13m 3s | Epoch: 80 / 300 | Loss: 0.2261\n",
      "Time: 14m 41s | Epoch: 90 / 300 | Loss: 0.2229\n",
      "Time: 16m 19s | Epoch: 100 / 300 | Loss: 0.2206\n",
      "Time: 17m 57s | Epoch: 110 / 300 | Loss: 0.2180\n",
      "Time: 19m 35s | Epoch: 120 / 300 | Loss: 0.2156\n",
      "Time: 21m 13s | Epoch: 130 / 300 | Loss: 0.2144\n",
      "Time: 22m 52s | Epoch: 140 / 300 | Loss: 0.2132\n",
      "Time: 24m 31s | Epoch: 150 / 300 | Loss: 0.2123\n",
      "Time: 26m 10s | Epoch: 160 / 300 | Loss: 0.2114\n",
      "Time: 27m 49s | Epoch: 170 / 300 | Loss: 0.2124\n",
      "Time: 29m 28s | Epoch: 180 / 300 | Loss: 0.2105\n",
      "Time: 31m 7s | Epoch: 190 / 300 | Loss: 0.2112\n",
      "Time: 32m 46s | Epoch: 200 / 300 | Loss: 0.2109\n",
      "Time: 34m 25s | Epoch: 210 / 300 | Loss: 0.2114\n",
      "Time: 36m 4s | Epoch: 220 / 300 | Loss: 0.2117\n",
      "Time: 37m 44s | Epoch: 230 / 300 | Loss: 0.2135\n",
      "Time: 39m 23s | Epoch: 240 / 300 | Loss: 0.2140\n",
      "Time: 41m 2s | Epoch: 250 / 300 | Loss: 0.2126\n",
      "Time: 42m 41s | Epoch: 260 / 300 | Loss: 0.2212\n",
      "Time: 44m 20s | Epoch: 270 / 300 | Loss: 0.2142\n",
      "Time: 45m 59s | Epoch: 280 / 300 | Loss: 0.2162\n",
      "Time: 47m 38s | Epoch: 290 / 300 | Loss: 0.2176\n",
      "Time: 49m 16s | Epoch: 300 / 300 | Loss: 0.2191\n"
     ]
    }
   ],
   "source": [
    "start = time.time()\n",
    "for epoch in range(1, n_epochs + 1):\n",
    "    loss_accum = 0\n",
    "    zero_state = model.init_hidden(BATCH_SIZE)\n",
    "    for i_step, (input_s, target_s) in enumerate(train_loader):\n",
    "        optimizer.zero_grad()\n",
    "        target_s = target_s.to(device)\n",
    "        input_s = input_s.to(device)\n",
    "    \n",
    "        output, _ = model(input_s, zero_state)\n",
    "        loss = criterion(output, target_s.view(-1).long())\n",
    "        loss.backward() \n",
    "        optimizer.step() \n",
    "    \n",
    "        loss_accum += loss\n",
    "        del input_s\n",
    "        del target_s\n",
    "    \n",
    "\n",
    "\n",
    "    ave_loss = loss_accum / i_step\n",
    "    if epoch % print_every == 0:\n",
    "        print('Time: %s | Epoch: %d / %d | Loss: %.4f' % (time_since(start), epoch, n_epochs, ave_loss))"
   ]
  },
  {
   "cell_type": "markdown",
   "metadata": {
    "colab_type": "text",
    "id": "bbXXuKF-DI3I"
   },
   "source": [
    "## Evaluation "
   ]
  },
  {
   "cell_type": "code",
   "execution_count": 77,
   "metadata": {
    "colab": {},
    "colab_type": "code",
    "id": "4Uv2O-9zDI3I"
   },
   "outputs": [],
   "source": [
    "def predict(model, words, hidden):\n",
    "    words = np.array([[char2id[c] for c in words]])\n",
    "\n",
    "    words = torch.from_numpy(words)\n",
    "    words = words.to(device)\n",
    "    words = words.view(1, -1)\n",
    "    \n",
    "    out, hidden = model(words, hidden)\n",
    "\n",
    "    prob = nn.functional.softmax(out[-1], dim=0).data\n",
    "    char_ind = torch.max(prob, dim=0)[1].item()\n",
    "\n",
    "    return id2char[char_ind], hidden"
   ]
  },
  {
   "cell_type": "code",
   "execution_count": 78,
   "metadata": {
    "colab": {},
    "colab_type": "code",
    "id": "9XCrNXJnDI3J"
   },
   "outputs": [],
   "source": [
    "def sample(model, out_len, start='я'):\n",
    "    model.eval() \n",
    "    hidden = model.init_hidden(1)\n",
    "    chars = [ch for ch in start]\n",
    "    size = out_len - len(chars)\n",
    "\n",
    "    for ii in range(size):\n",
    "        word, hidden = predict(model, chars, hidden)\n",
    "        chars.append(word)\n",
    "\n",
    "    return ''.join(chars)"
   ]
  },
  {
   "cell_type": "markdown",
   "metadata": {
    "colab_type": "text",
    "id": "UHJSBi2JDI3K"
   },
   "source": [
    "## Generated Story "
   ]
  },
  {
   "cell_type": "code",
   "execution_count": 85,
   "metadata": {
    "colab": {
     "base_uri": "https://localhost:8080/",
     "height": 54
    },
    "colab_type": "code",
    "id": "YsZqsMIfDI3K",
    "outputId": "8b47faa8-d167-4799-9880-de479a31a1f8"
   },
   "outputs": [
    {
     "name": "stdout",
     "output_type": "stream",
     "text": [
      "Утром я пошел с подругами и послал на старшика \n"
     ]
    }
   ],
   "source": [
    "result = sample(model, 47,\"Утром я пошел\")\n",
    "print(result)"
   ]
  }
 ],
 "metadata": {
  "accelerator": "GPU",
  "colab": {
   "collapsed_sections": [],
   "name": "LM_char.ipynb",
   "provenance": []
  },
  "kernelspec": {
   "display_name": "Python 3",
   "language": "python",
   "name": "python3"
  },
  "language_info": {
   "codemirror_mode": {
    "name": "ipython",
    "version": 3
   },
   "file_extension": ".py",
   "mimetype": "text/x-python",
   "name": "python",
   "nbconvert_exporter": "python",
   "pygments_lexer": "ipython3",
   "version": "3.7.4"
  }
 },
 "nbformat": 4,
 "nbformat_minor": 1
}
