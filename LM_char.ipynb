{
 "cells": [
  {
   "cell_type": "code",
   "execution_count": 35,
   "metadata": {
    "colab": {},
    "colab_type": "code",
    "id": "HzETJPTeDI2l"
   },
   "outputs": [],
   "source": [
    "import pickle\n",
    "import numpy as np\n",
    "import time\n",
    "import math\n",
    "import torch.nn as nn\n",
    "import torch.nn.functional as F\n",
    "import torch"
   ]
  },
  {
   "cell_type": "code",
   "execution_count": 36,
   "metadata": {
    "colab": {},
    "colab_type": "code",
    "id": "WaS0OXNbDI2v"
   },
   "outputs": [],
   "source": [
    "device = torch.device(\"cuda:0\")\n",
    "cpu = torch.device(\"cpu\")"
   ]
  },
  {
   "cell_type": "code",
   "execution_count": 3,
   "metadata": {},
   "outputs": [
    {
     "name": "stdout",
     "output_type": "stream",
     "text": [
      "Sun Oct  6 08:09:20 2019       \r\n",
      "+-----------------------------------------------------------------------------+\r\n",
      "| NVIDIA-SMI 418.67       Driver Version: 418.67       CUDA Version: 10.1     |\r\n",
      "|-------------------------------+----------------------+----------------------+\r\n",
      "| GPU  Name        Persistence-M| Bus-Id        Disp.A | Volatile Uncorr. ECC |\r\n",
      "| Fan  Temp  Perf  Pwr:Usage/Cap|         Memory-Usage | GPU-Util  Compute M. |\r\n",
      "|===============================+======================+======================|\r\n",
      "|   0  Tesla P100-PCIE...  On   | 00000000:00:04.0 Off |                    0 |\r\n",
      "| N/A   44C    P0    31W / 250W |      0MiB / 16280MiB |      0%      Default |\r\n",
      "+-------------------------------+----------------------+----------------------+\r\n",
      "                                                                               \r\n",
      "+-----------------------------------------------------------------------------+\r\n",
      "| Processes:                                                       GPU Memory |\r\n",
      "|  GPU       PID   Type   Process name                             Usage      |\r\n",
      "|=============================================================================|\r\n",
      "|  No running processes found                                                 |\r\n",
      "+-----------------------------------------------------------------------------+\r\n"
     ]
    }
   ],
   "source": [
    "!nvidia-smi"
   ]
  },
  {
   "cell_type": "markdown",
   "metadata": {
    "colab_type": "text",
    "id": "I4swSGSVDI25"
   },
   "source": [
    "## Load data "
   ]
  },
  {
   "cell_type": "code",
   "execution_count": 37,
   "metadata": {
    "colab": {},
    "colab_type": "code",
    "id": "cTSxoD8cDI25"
   },
   "outputs": [],
   "source": [
    "story_path = \"corpus/story_data_origin.pkl\"\n",
    "with open(story_path, 'rb') as f:\n",
    "    data = pickle.load(f)"
   ]
  },
  {
   "cell_type": "code",
   "execution_count": 38,
   "metadata": {
    "colab": {},
    "colab_type": "code",
    "id": "WYSlyCo2DI26"
   },
   "outputs": [],
   "source": [
    "STORY_VAL = 14000\n",
    "data_batch = data[:STORY_VAL]"
   ]
  },
  {
   "cell_type": "markdown",
   "metadata": {
    "colab_type": "text",
    "id": "FEp-Sn-7DI29"
   },
   "source": [
    "## Data preprocessing "
   ]
  },
  {
   "cell_type": "code",
   "execution_count": 39,
   "metadata": {
    "colab": {},
    "colab_type": "code",
    "id": "EFqaAptuPMLT"
   },
   "outputs": [],
   "source": [
    "def token2str(data):\n",
    "    full_data = [\" \".join(sent).rstrip() for sent in data]\n",
    "    \n",
    "    return full_data"
   ]
  },
  {
   "cell_type": "code",
   "execution_count": 40,
   "metadata": {
    "colab": {},
    "colab_type": "code",
    "id": "7DCbYRIdS7tK"
   },
   "outputs": [],
   "source": [
    "corpus = token2str(data_batch)"
   ]
  },
  {
   "cell_type": "code",
   "execution_count": 41,
   "metadata": {
    "colab": {},
    "colab_type": "code",
    "id": "NisXPXQbUCEC"
   },
   "outputs": [],
   "source": [
    "chars = set(''.join(corpus))\n",
    "\n",
    "id2char = dict(enumerate(chars))\n",
    "id2char[len(id2char)] = \"pad\"\n",
    "char2id = {char: ind for ind, char in id2char.items()}\n",
    "voc_len = len(char2id)"
   ]
  },
  {
   "cell_type": "code",
   "execution_count": 42,
   "metadata": {
    "colab": {},
    "colab_type": "code",
    "id": "X2YHh80eDI2-"
   },
   "outputs": [],
   "source": [
    "def get_samples(data):\n",
    "    input_seq = []\n",
    "    target_seq = []\n",
    "    \n",
    "    for story in data:\n",
    "        input_seq.append(np.array(story[:-1]))\n",
    "        target_seq.append(np.array(story[1:]))\n",
    "    \n",
    "    return np.array(input_seq), np.array(target_seq)"
   ]
  },
  {
   "cell_type": "code",
   "execution_count": 43,
   "metadata": {
    "colab": {},
    "colab_type": "code",
    "id": "5PzKdF6qDI2_"
   },
   "outputs": [],
   "source": [
    "input_seq, target_seq = get_samples(corpus)"
   ]
  },
  {
   "cell_type": "code",
   "execution_count": 44,
   "metadata": {
    "colab": {},
    "colab_type": "code",
    "id": "DFKtxGBwDI3A"
   },
   "outputs": [],
   "source": [
    "input_tensor = []\n",
    "target_tensor = []\n",
    "\n",
    "for i in range(len(data_batch)):\n",
    "    input_tensor.append(torch.tensor([char2id[char] for char in input_seq[i]]))\n",
    "    target_tensor.append(torch.tensor([char2id[char] for char in target_seq[i]]))"
   ]
  },
  {
   "cell_type": "code",
   "execution_count": 45,
   "metadata": {
    "colab": {},
    "colab_type": "code",
    "id": "yi5i3yfhgL4q"
   },
   "outputs": [],
   "source": [
    "input_seq = torch.nn.utils.rnn.pad_sequence(input_tensor, batch_first=True, padding_value=char2id['pad'])\n",
    "target_seq = torch.nn.utils.rnn.pad_sequence(target_tensor, batch_first=True, padding_value=char2id['pad'])"
   ]
  },
  {
   "cell_type": "code",
   "execution_count": 46,
   "metadata": {
    "colab": {},
    "colab_type": "code",
    "id": "CrxCXTCVez9s"
   },
   "outputs": [],
   "source": [
    "BATCH_SIZE = 250\n",
    "data2train = torch.utils.data.TensorDataset(input_seq, target_seq)\n",
    "train_loader = torch.utils.data.DataLoader(data2train, batch_size = BATCH_SIZE, shuffle = True)"
   ]
  },
  {
   "cell_type": "code",
   "execution_count": 47,
   "metadata": {
    "colab": {
     "base_uri": "https://localhost:8080/",
     "height": 34
    },
    "colab_type": "code",
    "id": "gGV-DFHF7TWQ",
    "outputId": "8489b280-7cec-4d21-bd77-bba18f08a84b"
   },
   "outputs": [
    {
     "data": {
      "text/plain": [
       "torch.Size([8000, 2966])"
      ]
     },
     "execution_count": 47,
     "metadata": {},
     "output_type": "execute_result"
    }
   ],
   "source": [
    "input_seq.size()"
   ]
  },
  {
   "cell_type": "markdown",
   "metadata": {
    "colab_type": "text",
    "id": "Chp0UCPDDI3F"
   },
   "source": [
    "## Init Language Model "
   ]
  },
  {
   "cell_type": "code",
   "execution_count": 48,
   "metadata": {
    "colab": {},
    "colab_type": "code",
    "id": "rl1iMxz4DI3F"
   },
   "outputs": [],
   "source": [
    "class Model(nn.Module):\n",
    "    def __init__(self, input_size, hidden_size, output_size, rnn_layers=1, drop_p=0.5):\n",
    "        super(Model, self).__init__()\n",
    "        \n",
    "        self.input_size = input_size\n",
    "        self.hidden_size = hidden_size\n",
    "        self.output_size = output_size\n",
    "        self.rnn_layers = rnn_layers\n",
    "        self.drop_p = drop_p\n",
    "        \n",
    "        \n",
    "        self.encoder = nn.Embedding(input_size, hidden_size)\n",
    "        \n",
    "        self.lstm = nn.LSTM(hidden_size, hidden_size, rnn_layers, batch_first=True) \n",
    "        \n",
    "        self.drop = nn.Dropout(self.drop_p)\n",
    "        \n",
    "        self.fc_1 = nn.Linear(hidden_size, output_size)\n",
    "        \n",
    "    def forward(self, x, prev_state):\n",
    "                \n",
    "        x = self.encoder(x)\n",
    "        \n",
    "        out, state = self.lstm(x, (prev_state[0].to(device), prev_state[1].to(device)))\n",
    "        \n",
    "        out = out.contiguous().view(-1, self.hidden_size)\n",
    "        out = self.drop(out)\n",
    "        out = self.fc_1(out)\n",
    "\n",
    "        return out, state\n",
    "    \n",
    "    def init_hidden(self, batch_size):\n",
    "        hidden = (torch.zeros(self.rnn_layers, batch_size, self.hidden_size),\n",
    "                  torch.zeros(self.rnn_layers, batch_size, self.hidden_size))\n",
    "        return hidden"
   ]
  },
  {
   "cell_type": "markdown",
   "metadata": {
    "colab_type": "text",
    "id": "k0splSYRDI3G"
   },
   "source": [
    "## Init train params"
   ]
  },
  {
   "cell_type": "code",
   "execution_count": 49,
   "metadata": {
    "colab": {},
    "colab_type": "code",
    "id": "mCWR79lD6Aen"
   },
   "outputs": [],
   "source": [
    "def time_since(since):\n",
    "    s = time.time() - since\n",
    "    m = math.floor(s / 60)\n",
    "    s -= m * 60\n",
    "    return '%dm %ds' % (m, s)"
   ]
  },
  {
   "cell_type": "code",
   "execution_count": 50,
   "metadata": {
    "colab": {},
    "colab_type": "code",
    "id": "3aqY5vMQ6B8L"
   },
   "outputs": [],
   "source": [
    "n_epochs = 150\n",
    "hidden_size = 256\n",
    "rnn_layers = 2\n",
    "lr = 0.001\n",
    "callback_every = 10\n",
    "drop_p = 0.5"
   ]
  },
  {
   "cell_type": "code",
   "execution_count": 51,
   "metadata": {
    "colab": {},
    "colab_type": "code",
    "id": "AEDjE79bDI3H"
   },
   "outputs": [],
   "source": [
    "model = Model(voc_len, hidden_size, voc_len, rnn_layers, drop_p)\n",
    "model.to(device)\n",
    "\n",
    "criterion = nn.CrossEntropyLoss()\n",
    "optimizer = torch.optim.Adam(model.parameters(), lr=lr)"
   ]
  },
  {
   "cell_type": "markdown",
   "metadata": {},
   "source": [
    "## Train Loop "
   ]
  },
  {
   "cell_type": "code",
   "execution_count": 52,
   "metadata": {
    "colab": {},
    "colab_type": "code",
    "id": "0UC51pG9DI3H",
    "scrolled": true
   },
   "outputs": [
    {
     "name": "stdout",
     "output_type": "stream",
     "text": [
      "Time: 6m 44s | Epoch: 10 / 100 | Loss: 0.3029\n",
      "Time: 13m 28s | Epoch: 20 / 100 | Loss: 0.2518\n",
      "Time: 20m 12s | Epoch: 30 / 100 | Loss: 0.2310\n",
      "Time: 26m 57s | Epoch: 40 / 100 | Loss: 0.2181\n",
      "Time: 33m 41s | Epoch: 50 / 100 | Loss: 0.2082\n",
      "Time: 40m 26s | Epoch: 60 / 100 | Loss: 0.2008\n",
      "Time: 47m 10s | Epoch: 70 / 100 | Loss: 0.1934\n",
      "Time: 53m 54s | Epoch: 80 / 100 | Loss: 0.1863\n",
      "Time: 60m 38s | Epoch: 90 / 100 | Loss: 0.1790\n",
      "Time: 67m 22s | Epoch: 100 / 100 | Loss: 0.1719\n"
     ]
    }
   ],
   "source": [
    "start = time.time()\n",
    "for epoch in range(1, n_epochs + 1):\n",
    "    loss_accum = 0\n",
    "    zero_state = model.init_hidden(BATCH_SIZE)\n",
    "    \n",
    "    for i_step, (input_s, target_s) in enumerate(train_loader):\n",
    "        optimizer.zero_grad()\n",
    "        \n",
    "        target_s = target_s.to(device)\n",
    "        input_s = input_s.to(device)\n",
    "    \n",
    "        output, _ = model(input_s, zero_state)\n",
    "        loss = criterion(output, target_s.view(-1).long())\n",
    "        \n",
    "        loss.backward() \n",
    "        optimizer.step() \n",
    "    \n",
    "        loss_accum += loss\n",
    "        del input_s\n",
    "        del target_s\n",
    "    \n",
    "    ave_loss = loss_accum / i_step\n",
    "    if epoch % callback_every == 0:\n",
    "        print('Time: %s | Epoch: %d / %d | Loss: %.4f' % (time_since(start), epoch, n_epochs, ave_loss))"
   ]
  },
  {
   "cell_type": "markdown",
   "metadata": {
    "colab_type": "text",
    "id": "bbXXuKF-DI3I"
   },
   "source": [
    "## Evaluation "
   ]
  },
  {
   "cell_type": "code",
   "execution_count": 56,
   "metadata": {
    "colab": {},
    "colab_type": "code",
    "id": "4Uv2O-9zDI3I"
   },
   "outputs": [],
   "source": [
    "def predict(model, words, hidden, top_k, softmax_t):\n",
    "    words = np.array([[char2id[c] for c in words]])\n",
    "\n",
    "    words = torch.from_numpy(words)\n",
    "    words = words.to(device)\n",
    "    words = words.view(1, -1)\n",
    "    \n",
    "    out, hidden = model(words, hidden)\n",
    "\n",
    "    prob = F.softmax(out[-1] / softmax_t, dim=0).data\n",
    "    char_ind = torch.max(prob, dim=0)[1].item()\n",
    "    prob = prob.to(cpu)\n",
    "\n",
    "    \n",
    "    prob, top_ch = prob.topk(top_k)\n",
    "    top_ch = top_ch.numpy().squeeze()\n",
    "        \n",
    "    prob = prob.numpy().squeeze()\n",
    "    char = np.random.choice(top_ch, p=prob/prob.sum())\n",
    "\n",
    "\n",
    "    return id2char[char], hidden"
   ]
  },
  {
   "cell_type": "code",
   "execution_count": 58,
   "metadata": {
    "colab": {},
    "colab_type": "code",
    "id": "9XCrNXJnDI3J"
   },
   "outputs": [],
   "source": [
    "def generate_story(model, out_len, start='Я поехал', top_k=5, softmax_t=1):\n",
    "    model.eval() \n",
    "    hidden = model.init_hidden(1)\n",
    "    chars = [ch for ch in start]\n",
    "    size = out_len - len(chars)\n",
    "\n",
    "    for ii in range(size):\n",
    "        word, hidden = predict(model, chars, hidden, top_k, softmax_t)\n",
    "        chars.append(word)\n",
    "\n",
    "    return ''.join(chars)"
   ]
  },
  {
   "cell_type": "markdown",
   "metadata": {
    "colab_type": "text",
    "id": "UHJSBi2JDI3K"
   },
   "source": [
    "## Generated Story "
   ]
  },
  {
   "cell_type": "code",
   "execution_count": 77,
   "metadata": {
    "colab": {
     "base_uri": "https://localhost:8080/",
     "height": 54
    },
    "colab_type": "code",
    "id": "YsZqsMIfDI3K",
    "outputId": "8b47faa8-d167-4799-9880-de479a31a1f8"
   },
   "outputs": [
    {
     "name": "stdout",
     "output_type": "stream",
     "text": [
      "Я ушел домой, пока привезли с палитым и собирается дома с девушкой, только на мой друг высосили в первый сенсчернее и они начинает дернуть кроми трубк\n"
     ]
    }
   ],
   "source": [
    "result = generate_story(model, 150, \"Я ушел домой\", top_k=5, softmax_t=1)\n",
    "print(result)"
   ]
  }
 ],
 "metadata": {
  "accelerator": "GPU",
  "colab": {
   "collapsed_sections": [],
   "name": "LM_char.ipynb",
   "provenance": []
  },
  "kernelspec": {
   "display_name": "Python 3",
   "language": "python",
   "name": "python3"
  },
  "language_info": {
   "codemirror_mode": {
    "name": "ipython",
    "version": 3
   },
   "file_extension": ".py",
   "mimetype": "text/x-python",
   "name": "python",
   "nbconvert_exporter": "python",
   "pygments_lexer": "ipython3",
   "version": "3.7.4"
  }
 },
 "nbformat": 4,
 "nbformat_minor": 1
}
