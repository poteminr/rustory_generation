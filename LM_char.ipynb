{
 "cells": [
  {
   "cell_type": "code",
   "execution_count": 105,
   "metadata": {
    "colab": {},
    "colab_type": "code",
    "id": "HzETJPTeDI2l"
   },
   "outputs": [],
   "source": [
    "import os\n",
    "import pickle\n",
    "import numpy as np\n",
    "import time\n",
    "import math\n",
    "import torch.nn as nn\n",
    "import torch.functional as F\n",
    "import torch"
   ]
  },
  {
   "cell_type": "code",
   "execution_count": 123,
   "metadata": {
    "colab": {},
    "colab_type": "code",
    "id": "WaS0OXNbDI2v"
   },
   "outputs": [],
   "source": [
    "device = torch.device(\"cpu\")"
   ]
  },
  {
   "cell_type": "markdown",
   "metadata": {
    "colab_type": "text",
    "id": "I4swSGSVDI25"
   },
   "source": [
    "## Load data "
   ]
  },
  {
   "cell_type": "code",
   "execution_count": 124,
   "metadata": {
    "colab": {},
    "colab_type": "code",
    "id": "cTSxoD8cDI25"
   },
   "outputs": [],
   "source": [
    "story_path = \"corpus/story_data_origin.pkl\"\n",
    "with open(story_path, 'rb') as f:\n",
    "    data = pickle.load(f)"
   ]
  },
  {
   "cell_type": "code",
   "execution_count": 125,
   "metadata": {
    "colab": {},
    "colab_type": "code",
    "id": "WYSlyCo2DI26"
   },
   "outputs": [],
   "source": [
    "STORY_VAL = 10\n",
    "data_batch = data[:STORY_VAL]"
   ]
  },
  {
   "cell_type": "markdown",
   "metadata": {
    "colab_type": "text",
    "id": "FEp-Sn-7DI29"
   },
   "source": [
    "## Data preprocessing "
   ]
  },
  {
   "cell_type": "code",
   "execution_count": 126,
   "metadata": {
    "colab": {},
    "colab_type": "code",
    "id": "EFqaAptuPMLT"
   },
   "outputs": [],
   "source": [
    "def token2str(data):\n",
    "    full_data = [\" \".join(sent).rstrip() for sent in data]\n",
    "    \n",
    "    return full_data"
   ]
  },
  {
   "cell_type": "code",
   "execution_count": 127,
   "metadata": {
    "colab": {},
    "colab_type": "code",
    "id": "7DCbYRIdS7tK"
   },
   "outputs": [],
   "source": [
    "corpus = token2str(data_batch)"
   ]
  },
  {
   "cell_type": "code",
   "execution_count": 128,
   "metadata": {
    "colab": {},
    "colab_type": "code",
    "id": "NisXPXQbUCEC"
   },
   "outputs": [],
   "source": [
    "chars = set(''.join(corpus))\n",
    "\n",
    "id2char = dict(enumerate(chars))\n",
    "\n",
    "char2id = {char: ind for ind, char in id2char.items()}\n",
    "voc_len = len(char2id)"
   ]
  },
  {
   "cell_type": "code",
   "execution_count": 129,
   "metadata": {
    "colab": {},
    "colab_type": "code",
    "id": "X2YHh80eDI2-"
   },
   "outputs": [],
   "source": [
    "def get_samples(data):\n",
    "    input_seq = []\n",
    "    target_seq = []\n",
    "    \n",
    "    for story in data:\n",
    "        input_seq.append(np.array(story[:-1]))\n",
    "        target_seq.append(np.array(story[1:]))\n",
    "    \n",
    "    return np.array(input_seq), np.array(target_seq)"
   ]
  },
  {
   "cell_type": "code",
   "execution_count": 130,
   "metadata": {
    "colab": {},
    "colab_type": "code",
    "id": "5PzKdF6qDI2_"
   },
   "outputs": [],
   "source": [
    "input_seq, target_seq = get_samples(corpus)"
   ]
  },
  {
   "cell_type": "code",
   "execution_count": 131,
   "metadata": {
    "colab": {},
    "colab_type": "code",
    "id": "DFKtxGBwDI3A"
   },
   "outputs": [],
   "source": [
    "input_tensor = []\n",
    "target_tensor = []\n",
    "\n",
    "for i in range(len(data_batch)):\n",
    "    input_tensor.append(torch.tensor([char2id[char] for char in input_seq[i]]))\n",
    "    target_tensor.append(torch.tensor([char2id[char] for char in target_seq[i]]))\n",
    "    \n"
   ]
  },
  {
   "cell_type": "code",
   "execution_count": 132,
   "metadata": {
    "colab": {},
    "colab_type": "code",
    "id": "yi5i3yfhgL4q"
   },
   "outputs": [],
   "source": [
    "input_seq = torch.nn.utils.rnn.pad_sequence(input_tensor, batch_first=True, padding_value=0)\n",
    "target_seq = torch.nn.utils.rnn.pad_sequence(target_tensor, batch_first=True, padding_value=0)"
   ]
  },
  {
   "cell_type": "code",
   "execution_count": 133,
   "metadata": {
    "colab": {},
    "colab_type": "code",
    "id": "CrxCXTCVez9s"
   },
   "outputs": [],
   "source": [
    "BATCH_SIZE = 2\n",
    "data2train = torch.utils.data.TensorDataset(input_seq, target_seq)\n",
    "train_loader = torch.utils.data.DataLoader(data2train, batch_size = BATCH_SIZE, shuffle = True)"
   ]
  },
  {
   "cell_type": "code",
   "execution_count": 134,
   "metadata": {
    "colab": {
     "base_uri": "https://localhost:8080/",
     "height": 34
    },
    "colab_type": "code",
    "id": "gGV-DFHF7TWQ",
    "outputId": "8489b280-7cec-4d21-bd77-bba18f08a84b"
   },
   "outputs": [
    {
     "data": {
      "text/plain": [
       "torch.Size([10, 783])"
      ]
     },
     "execution_count": 134,
     "metadata": {},
     "output_type": "execute_result"
    }
   ],
   "source": [
    "input_seq.size()"
   ]
  },
  {
   "cell_type": "markdown",
   "metadata": {
    "colab_type": "text",
    "id": "Chp0UCPDDI3F"
   },
   "source": [
    "## Init Language Model "
   ]
  },
  {
   "cell_type": "code",
   "execution_count": 135,
   "metadata": {
    "colab": {},
    "colab_type": "code",
    "id": "rl1iMxz4DI3F"
   },
   "outputs": [],
   "source": [
    "class Model(nn.Module):\n",
    "    def __init__(self, input_size, hidden_size, output_size, n_layers=1):\n",
    "        super(Model, self).__init__()\n",
    "        self.input_size = input_size\n",
    "        self.hidden_size = hidden_size\n",
    "        self.output_size = output_size\n",
    "        self.n_layers = n_layers\n",
    "        \n",
    "        self.encoder = nn.Embedding(input_size, hidden_size*2)\n",
    "\n",
    "\n",
    "        self.lstm = nn.LSTM(hidden_size*2, hidden_size, n_layers, batch_first=True,\n",
    "                          bidirectional=False) \n",
    "        \n",
    "        self.drop = nn.Dropout(0.5)\n",
    "        self.fc_1 = nn.Linear(hidden_size, output_size)\n",
    "    def forward(self, x, prev_state):\n",
    "                \n",
    "        x = self.encoder(x)\n",
    "        \n",
    "        out, state = self.lstm(x, prev_state)\n",
    "        \n",
    "        out = out.contiguous().view(-1, self.hidden_size)\n",
    "        out = self.drop(out)\n",
    "        out = self.fc_1(out)\n",
    "\n",
    "        return out, state\n",
    "    \n",
    "    def init_hidden(self, batch_size):\n",
    "        hidden = (torch.zeros(self.n_layers, batch_size, self.hidden_size), torch.zeros(self.n_layers, batch_size, self.hidden_size))\n",
    "        return hidden"
   ]
  },
  {
   "cell_type": "markdown",
   "metadata": {
    "colab_type": "text",
    "id": "k0splSYRDI3G"
   },
   "source": [
    "## Init train params"
   ]
  },
  {
   "cell_type": "code",
   "execution_count": 147,
   "metadata": {
    "colab": {},
    "colab_type": "code",
    "id": "mCWR79lD6Aen"
   },
   "outputs": [],
   "source": [
    "def time_since(since):\n",
    "    s = time.time() - since\n",
    "    m = math.floor(s / 60)\n",
    "    s -= m * 60\n",
    "    return '%dm %ds' % (m, s)"
   ]
  },
  {
   "cell_type": "code",
   "execution_count": 148,
   "metadata": {
    "colab": {},
    "colab_type": "code",
    "id": "3aqY5vMQ6B8L"
   },
   "outputs": [],
   "source": [
    "n_epochs = 30\n",
    "hidden_size = 120\n",
    "n_layers = 1\n",
    "lr = 0.01\n",
    "print_every = 1"
   ]
  },
  {
   "cell_type": "code",
   "execution_count": 149,
   "metadata": {
    "colab": {},
    "colab_type": "code",
    "id": "AEDjE79bDI3H"
   },
   "outputs": [],
   "source": [
    "model = Model(voc_len, hidden_size, voc_len, n_layers)\n",
    "model.to(device)\n",
    "\n",
    "criterion = nn.CrossEntropyLoss()\n",
    "optimizer = torch.optim.Adam(model.parameters(), lr=lr)"
   ]
  },
  {
   "cell_type": "markdown",
   "metadata": {},
   "source": [
    "## Train Loop "
   ]
  },
  {
   "cell_type": "code",
   "execution_count": 150,
   "metadata": {
    "colab": {},
    "colab_type": "code",
    "id": "0UC51pG9DI3H",
    "scrolled": false
   },
   "outputs": [
    {
     "name": "stdout",
     "output_type": "stream",
     "text": [
      "Time: 0m 1s | Epoch: 1 / 30 | Loss: 3.2857\n",
      "Time: 0m 2s | Epoch: 2 / 30 | Loss: 1.8111\n",
      "Time: 0m 3s | Epoch: 3 / 30 | Loss: 1.6368\n",
      "Time: 0m 4s | Epoch: 4 / 30 | Loss: 1.5453\n",
      "Time: 0m 5s | Epoch: 5 / 30 | Loss: 1.4968\n",
      "Time: 0m 6s | Epoch: 6 / 30 | Loss: 1.4443\n",
      "Time: 0m 8s | Epoch: 7 / 30 | Loss: 1.4102\n",
      "Time: 0m 9s | Epoch: 8 / 30 | Loss: 1.3889\n",
      "Time: 0m 10s | Epoch: 9 / 30 | Loss: 1.3460\n",
      "Time: 0m 11s | Epoch: 10 / 30 | Loss: 1.3335\n",
      "Time: 0m 12s | Epoch: 11 / 30 | Loss: 1.3141\n",
      "Time: 0m 14s | Epoch: 12 / 30 | Loss: 1.2740\n",
      "Time: 0m 15s | Epoch: 13 / 30 | Loss: 1.2540\n",
      "Time: 0m 16s | Epoch: 14 / 30 | Loss: 1.2372\n",
      "Time: 0m 17s | Epoch: 15 / 30 | Loss: 1.1970\n",
      "Time: 0m 19s | Epoch: 16 / 30 | Loss: 1.1863\n",
      "Time: 0m 20s | Epoch: 17 / 30 | Loss: 1.1537\n",
      "Time: 0m 21s | Epoch: 18 / 30 | Loss: 1.1495\n",
      "Time: 0m 22s | Epoch: 19 / 30 | Loss: 1.1344\n",
      "Time: 0m 24s | Epoch: 20 / 30 | Loss: 1.1264\n",
      "Time: 0m 25s | Epoch: 21 / 30 | Loss: 1.1021\n",
      "Time: 0m 26s | Epoch: 22 / 30 | Loss: 1.0748\n",
      "Time: 0m 27s | Epoch: 23 / 30 | Loss: 1.0513\n",
      "Time: 0m 29s | Epoch: 24 / 30 | Loss: 1.0351\n",
      "Time: 0m 30s | Epoch: 25 / 30 | Loss: 1.0141\n",
      "Time: 0m 31s | Epoch: 26 / 30 | Loss: 0.9997\n",
      "Time: 0m 32s | Epoch: 27 / 30 | Loss: 0.9961\n",
      "Time: 0m 34s | Epoch: 28 / 30 | Loss: 0.9810\n",
      "Time: 0m 35s | Epoch: 29 / 30 | Loss: 0.9775\n",
      "Time: 0m 36s | Epoch: 30 / 30 | Loss: 0.9669\n"
     ]
    }
   ],
   "source": [
    "start = time.time()\n",
    "for epoch in range(1, n_epochs + 1):\n",
    "    loss_accum = 0\n",
    "    zero_state = model.init_hidden(BATCH_SIZE)\n",
    "    for i_step, (input_s, target_s) in enumerate(train_loader):\n",
    "        optimizer.zero_grad()\n",
    "        target_s = target_s.to(device)\n",
    "        input_s = input_s.to(device)\n",
    "    \n",
    "        output, _ = model(input_s, zero_state)\n",
    "        loss = criterion(output, target_s.view(-1).long())\n",
    "        loss.backward() \n",
    "        optimizer.step() \n",
    "    \n",
    "        loss_accum += loss\n",
    "        del input_s\n",
    "        del target_s\n",
    "    \n",
    "\n",
    "\n",
    "    ave_loss = loss_accum / i_step\n",
    "    if epoch % print_every == 0:\n",
    "        print('Time: %s | Epoch: %d / %d | Loss: %.4f' % (time_since(start), epoch, n_epochs, ave_loss))"
   ]
  },
  {
   "cell_type": "markdown",
   "metadata": {
    "colab_type": "text",
    "id": "bbXXuKF-DI3I"
   },
   "source": [
    "## Evaluation "
   ]
  },
  {
   "cell_type": "code",
   "execution_count": 151,
   "metadata": {
    "colab": {},
    "colab_type": "code",
    "id": "4Uv2O-9zDI3I"
   },
   "outputs": [],
   "source": [
    "def predict(model, words, hidden):\n",
    "    words = np.array([[char2id[c] for c in words]])\n",
    "\n",
    "    words = torch.from_numpy(words)\n",
    "    words = words.to(device)\n",
    "    words = words.view(1, -1)\n",
    "    \n",
    "    out, hidden = model(words, hidden)\n",
    "\n",
    "    prob = nn.functional.softmax(out[-1], dim=0).data\n",
    "    char_ind = torch.max(prob, dim=0)[1].item()\n",
    "\n",
    "    return id2char[char_ind], hidden"
   ]
  },
  {
   "cell_type": "code",
   "execution_count": 152,
   "metadata": {
    "colab": {},
    "colab_type": "code",
    "id": "9XCrNXJnDI3J"
   },
   "outputs": [],
   "source": [
    "def sample(model, out_len, start='я'):\n",
    "    model.eval() \n",
    "    hidden = model.init_hidden(1)\n",
    "    chars = [ch for ch in start]\n",
    "    size = out_len - len(chars)\n",
    "\n",
    "    for ii in range(size):\n",
    "        word, hidden = predict(model, chars, hidden)\n",
    "        chars.append(word)\n",
    "\n",
    "    return ''.join(chars)"
   ]
  },
  {
   "cell_type": "markdown",
   "metadata": {
    "colab_type": "text",
    "id": "UHJSBi2JDI3K"
   },
   "source": [
    "## Generated Story "
   ]
  },
  {
   "cell_type": "code",
   "execution_count": 156,
   "metadata": {
    "colab": {
     "base_uri": "https://localhost:8080/",
     "height": 54
    },
    "colab_type": "code",
    "id": "YsZqsMIfDI3K",
    "outputId": "8b47faa8-d167-4799-9880-de479a31a1f8"
   },
   "outputs": [
    {
     "name": "stdout",
     "output_type": "stream",
     "text": [
      "ромали, на потом старили с за празале в тусили не потом старили с за празале в тусили не потом старили с за празале в тусили не потом старили с за празале в тусили не потом старили с за празале в туси\n"
     ]
    }
   ],
   "source": [
    "result = sample(model, 200, \"рома\")\n",
    "print(result)"
   ]
  }
 ],
 "metadata": {
  "accelerator": "GPU",
  "colab": {
   "collapsed_sections": [],
   "name": "LM_char.ipynb",
   "provenance": []
  },
  "kernelspec": {
   "display_name": "Python 3",
   "language": "python",
   "name": "python3"
  },
  "language_info": {
   "codemirror_mode": {
    "name": "ipython",
    "version": 3
   },
   "file_extension": ".py",
   "mimetype": "text/x-python",
   "name": "python",
   "nbconvert_exporter": "python",
   "pygments_lexer": "ipython3",
   "version": "3.7.4"
  }
 },
 "nbformat": 4,
 "nbformat_minor": 1
}
